{
 "cells": [
  {
   "cell_type": "code",
   "execution_count": 1,
   "metadata": {},
   "outputs": [
    {
     "name": "stdout",
     "output_type": "stream",
     "text": [
      "Enter the name of filesuperman\n",
      "1\n",
      "2\n",
      "3\n",
      "4\n",
      "(4, 100, 100, 3)\n",
      "(4, 30000)\n",
      "File saved successfully\n"
     ]
    }
   ],
   "source": [
    "import cv2\n",
    "import numpy as np\n",
    "\n",
    "\n",
    "cap = cv2.VideoCapture(0)\n",
    "face_cascade = cv2.CascadeClassifier(\"opt/anaconda3/lib/python3.7/site-packages/cv2/data/haarcascade_frontalface_alt2.xml\")\n",
    "face_section = np.zeros((100,100,3))\n",
    "face_data = []\n",
    "dataset_path = './data/'\n",
    "file_name = input(\"Enter the name of file\")\n",
    "skip = 0\n",
    "\n",
    "while True:\n",
    "    ret , frame = cap.read(0)\n",
    "    \n",
    "    if ret== False:\n",
    "        continue\n",
    "    \n",
    "    gray_frame = cv2.cvtColor(frame,cv2.COLOR_BGR2GRAY)\n",
    "        \n",
    "    \n",
    "    faces = face_cascade.detectMultiScale(frame,1.3,5)\n",
    "    \n",
    "    sorted(faces, key = lambda f: f[2]*f[3])\n",
    "    \n",
    "    \n",
    "    for face in faces[-1:]:\n",
    "        x,y,w,h = face\n",
    "        cv2.rectangle(frame,(x,y ), (x+w, y+h), (0,255,255),2)\n",
    "        \n",
    "        offset = 10\n",
    "        face_section = frame[y-offset:y+h+offset, x-offset:x+w+offset]\n",
    "        face_section = cv2.resize(face_section,(100,100))\n",
    "        \n",
    "        skip +=1 \n",
    "        if ( skip%10 == 0):\n",
    "            face_data.append(face_section)\n",
    "            print(len(face_data))\n",
    "        \n",
    "    cv2.imshow('frame',frame)\n",
    "    \n",
    "    \n",
    "    key_pressed = cv2.waitKey(1) & 0xFF\n",
    "    if key_pressed == ord('q'):\n",
    "        break\n",
    "        \n",
    "        \n",
    "face_data = np.asarray(face_data)\n",
    "print(face_data.shape)\n",
    "\n",
    "face_data = face_data.reshape(face_data.shape[0],-1)\n",
    "print(face_data.shape)\n",
    "\n",
    "np.save(dataset_path + file_name + '.npy', face_data)\n",
    "print(\"File saved successfully\")\n",
    "\n",
    "cap.release()\n",
    "cv2.destroyAllWindows()\n"
   ]
  },
  {
   "cell_type": "code",
   "execution_count": null,
   "metadata": {},
   "outputs": [],
   "source": []
  }
 ],
 "metadata": {
  "kernelspec": {
   "display_name": "Python 3",
   "language": "python",
   "name": "python3"
  },
  "language_info": {
   "codemirror_mode": {
    "name": "ipython",
    "version": 3
   },
   "file_extension": ".py",
   "mimetype": "text/x-python",
   "name": "python",
   "nbconvert_exporter": "python",
   "pygments_lexer": "ipython3",
   "version": "3.7.4"
  }
 },
 "nbformat": 4,
 "nbformat_minor": 2
}
